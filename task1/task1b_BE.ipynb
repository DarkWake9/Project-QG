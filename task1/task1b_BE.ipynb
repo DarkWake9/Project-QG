{
 "cells": [
  {
   "cell_type": "code",
   "execution_count": 1,
   "metadata": {},
   "outputs": [],
   "source": [
    "import numpy as np\n",
    "import os\n",
    "import matplotlib.pyplot as plt\n",
    "import multiprocessing as mul\n",
    "from scipy import stats\n",
    "import pickle\n",
    "from scipy.integrate import quad\n",
    "from corner import corner\n",
    "import pandas as pd\n",
    "from scipy.stats import gaussian_kde\n",
    "import dynesty as dyn"
   ]
  },
  {
   "cell_type": "code",
   "execution_count": 2,
   "metadata": {},
   "outputs": [],
   "source": [
    "all_BE = {}\n",
    "for file in os.listdir('./outputs/BF/'):\n",
    "    be = []\n",
    "    with open('./outputs/BF/'+file, 'rb') as f:\n",
    "        data = np.loadtxt(f, delimiter=',')\n",
    "        be = data[:,0]/data[:,0][0]\n",
    "    f.close()\n",
    "    all_BE[file.replace('_results.txt', '')] = be\n",
    "    with open('./outputs/BE/'+file, 'wb') as f:\n",
    "        np.savetxt(f, be, delimiter=',')\n",
    "        \n",
    "    f.close()"
   ]
  },
  {
   "cell_type": "code",
   "execution_count": 3,
   "metadata": {},
   "outputs": [],
   "source": [
    "all_BE_df = pd.DataFrame(all_BE).T\n",
    "all_BE_df.to_csv('./outputs/BE/BE0.csv')"
   ]
  },
  {
   "cell_type": "code",
   "execution_count": 4,
   "metadata": {},
   "outputs": [
    {
     "data": {
      "text/plain": [
       "Text(0.5, 1.0, 'BE distribution for Linear HP')"
      ]
     },
     "execution_count": 4,
     "metadata": {},
     "output_type": "execute_result"
    },
    {
     "data": {
      "image/png": "[encoded data removed]",
      "text/plain": [
       "<Figure size 640x480 with 1 Axes>"
      ]
     },
     "metadata": {},
     "output_type": "display_data"
    }
   ],
   "source": [
    "all_BE_df[1].hist(bins=20)\n",
    "plt.title('BE distribution for Linear HP')"
   ]
  },
  {
   "cell_type": "code",
   "execution_count": 5,
   "metadata": {},
   "outputs": [
    {
     "data": {
      "text/plain": [
       "Text(0.5, 1.0, 'BE distribution for Quadratic HP')"
      ]
     },
     "execution_count": 5,
     "metadata": {},
     "output_type": "execute_result"
    },
    {
     "data": {
      "image/png": "[encoded data removed]",
      "text/plain": [
       "<Figure size 640x480 with 1 Axes>"
      ]
     },
     "metadata": {},
     "output_type": "display_data"
    }
   ],
   "source": [
    "all_BE_df[2].hist(bins=20)\n",
    "plt.title('BE distribution for Quadratic HP')"
   ]
  },
  {
   "cell_type": "code",
   "execution_count": 6,
   "metadata": {},
   "outputs": [],
   "source": [
    "all_BE_df.drop(0, axis=1, inplace=False).to_csv('./outputs/BE/BE.csv')"
   ]
  },
  {
   "cell_type": "code",
   "execution_count": 7,
   "metadata": {},
   "outputs": [],
   "source": [
    "all_BE_df.sort_index(inplace=True)"
   ]
  },
  {
   "cell_type": "code",
   "execution_count": 8,
   "metadata": {},
   "outputs": [],
   "source": [
    "grbparam = pd.read_csv(os.getcwd() + '/../data/GRBPARAM.csv', index_col=0).T"
   ]
  },
  {
   "cell_type": "code",
   "execution_count": 9,
   "metadata": {},
   "outputs": [],
   "source": [
    "grbparam.sort_index(inplace=True)"
   ]
  },
  {
   "cell_type": "code",
   "execution_count": 11,
   "metadata": {},
   "outputs": [],
   "source": [
    "grbparam = np.round(grbparam, 2)"
   ]
  },
  {
   "cell_type": "code",
   "execution_count": 12,
   "metadata": {},
   "outputs": [
    {
     "data": {
      "text/html": [
       "<div>\n",
       "<style scoped>\n",
       "    .dataframe tbody tr th:only-of-type {\n",
       "        vertical-align: middle;\n",
       "    }\n",
       "\n",
       "    .dataframe tbody tr th {\n",
       "        vertical-align: top;\n",
       "    }\n",
       "\n",
       "    .dataframe thead th {\n",
       "        text-align: right;\n",
       "    }\n",
       "</style>\n",
       "<table border=\"1\" class=\"dataframe\">\n",
       "  <thead>\n",
       "    <tr style=\"text-align: right;\">\n",
       "      <th>GRB</th>\n",
       "      <th>E0</th>\n",
       "      <th>Emax</th>\n",
       "      <th>redshift</th>\n",
       "    </tr>\n",
       "  </thead>\n",
       "  <tbody>\n",
       "    <tr>\n",
       "      <th>GRB080916C</th>\n",
       "      <td>10.0</td>\n",
       "      <td>600.0</td>\n",
       "      <td>4.35</td>\n",
       "    </tr>\n",
       "    <tr>\n",
       "      <th>GRB081221</th>\n",
       "      <td>10.0</td>\n",
       "      <td>300.0</td>\n",
       "      <td>2.26</td>\n",
       "    </tr>\n",
       "    <tr>\n",
       "      <th>GRB090328</th>\n",
       "      <td>30.0</td>\n",
       "      <td>500.0</td>\n",
       "      <td>0.74</td>\n",
       "    </tr>\n",
       "    <tr>\n",
       "      <th>GRB090618</th>\n",
       "      <td>10.0</td>\n",
       "      <td>700.0</td>\n",
       "      <td>0.54</td>\n",
       "    </tr>\n",
       "    <tr>\n",
       "      <th>GRB090926A</th>\n",
       "      <td>10.0</td>\n",
       "      <td>800.0</td>\n",
       "      <td>2.11</td>\n",
       "    </tr>\n",
       "    <tr>\n",
       "      <th>GRB091003A</th>\n",
       "      <td>10.0</td>\n",
       "      <td>800.0</td>\n",
       "      <td>0.90</td>\n",
       "    </tr>\n",
       "    <tr>\n",
       "      <th>GRB100728A</th>\n",
       "      <td>40.0</td>\n",
       "      <td>400.0</td>\n",
       "      <td>1.57</td>\n",
       "    </tr>\n",
       "    <tr>\n",
       "      <th>GRB120119A</th>\n",
       "      <td>25.0</td>\n",
       "      <td>500.0</td>\n",
       "      <td>1.73</td>\n",
       "    </tr>\n",
       "    <tr>\n",
       "      <th>GRB130427A</th>\n",
       "      <td>10.0</td>\n",
       "      <td>5000.0</td>\n",
       "      <td>0.34</td>\n",
       "    </tr>\n",
       "    <tr>\n",
       "      <th>GRB130518A</th>\n",
       "      <td>10.0</td>\n",
       "      <td>1200.0</td>\n",
       "      <td>2.49</td>\n",
       "    </tr>\n",
       "    <tr>\n",
       "      <th>GRB130925A</th>\n",
       "      <td>10.0</td>\n",
       "      <td>300.0</td>\n",
       "      <td>0.35</td>\n",
       "    </tr>\n",
       "    <tr>\n",
       "      <th>GRB131108A</th>\n",
       "      <td>20.0</td>\n",
       "      <td>500.0</td>\n",
       "      <td>2.40</td>\n",
       "    </tr>\n",
       "    <tr>\n",
       "      <th>GRB131231A</th>\n",
       "      <td>10.0</td>\n",
       "      <td>713.0</td>\n",
       "      <td>0.64</td>\n",
       "    </tr>\n",
       "    <tr>\n",
       "      <th>GRB140206A</th>\n",
       "      <td>20.0</td>\n",
       "      <td>320.0</td>\n",
       "      <td>2.73</td>\n",
       "    </tr>\n",
       "    <tr>\n",
       "      <th>GRB140508A</th>\n",
       "      <td>10.0</td>\n",
       "      <td>720.0</td>\n",
       "      <td>1.03</td>\n",
       "    </tr>\n",
       "    <tr>\n",
       "      <th>GRB141028A</th>\n",
       "      <td>40.0</td>\n",
       "      <td>400.0</td>\n",
       "      <td>2.33</td>\n",
       "    </tr>\n",
       "    <tr>\n",
       "      <th>GRB150314A</th>\n",
       "      <td>20.0</td>\n",
       "      <td>800.0</td>\n",
       "      <td>1.76</td>\n",
       "    </tr>\n",
       "    <tr>\n",
       "      <th>GRB150403A</th>\n",
       "      <td>35.0</td>\n",
       "      <td>700.0</td>\n",
       "      <td>2.06</td>\n",
       "    </tr>\n",
       "    <tr>\n",
       "      <th>GRB150514A</th>\n",
       "      <td>20.0</td>\n",
       "      <td>200.0</td>\n",
       "      <td>0.81</td>\n",
       "    </tr>\n",
       "    <tr>\n",
       "      <th>GRB150821A</th>\n",
       "      <td>10.0</td>\n",
       "      <td>280.0</td>\n",
       "      <td>0.76</td>\n",
       "    </tr>\n",
       "    <tr>\n",
       "      <th>GRB160509A</th>\n",
       "      <td>10.0</td>\n",
       "      <td>800.0</td>\n",
       "      <td>1.17</td>\n",
       "    </tr>\n",
       "    <tr>\n",
       "      <th>GRB160625B</th>\n",
       "      <td>10.0</td>\n",
       "      <td>20000.0</td>\n",
       "      <td>1.41</td>\n",
       "    </tr>\n",
       "    <tr>\n",
       "      <th>GRB171010A</th>\n",
       "      <td>10.0</td>\n",
       "      <td>620.0</td>\n",
       "      <td>0.33</td>\n",
       "    </tr>\n",
       "    <tr>\n",
       "      <th>GRB180703A</th>\n",
       "      <td>20.0</td>\n",
       "      <td>400.0</td>\n",
       "      <td>0.67</td>\n",
       "    </tr>\n",
       "    <tr>\n",
       "      <th>GRB180720B</th>\n",
       "      <td>25.0</td>\n",
       "      <td>17000.0</td>\n",
       "      <td>0.65</td>\n",
       "    </tr>\n",
       "    <tr>\n",
       "      <th>GRB190114C</th>\n",
       "      <td>10.0</td>\n",
       "      <td>5000.0</td>\n",
       "      <td>0.42</td>\n",
       "    </tr>\n",
       "    <tr>\n",
       "      <th>GRB200613A</th>\n",
       "      <td>30.0</td>\n",
       "      <td>300.0</td>\n",
       "      <td>1.22</td>\n",
       "    </tr>\n",
       "    <tr>\n",
       "      <th>GRB200829A</th>\n",
       "      <td>25.0</td>\n",
       "      <td>3500.0</td>\n",
       "      <td>1.25</td>\n",
       "    </tr>\n",
       "    <tr>\n",
       "      <th>GRB201216C</th>\n",
       "      <td>15.0</td>\n",
       "      <td>700.0</td>\n",
       "      <td>1.10</td>\n",
       "    </tr>\n",
       "    <tr>\n",
       "      <th>GRB210204A</th>\n",
       "      <td>10.0</td>\n",
       "      <td>400.0</td>\n",
       "      <td>0.88</td>\n",
       "    </tr>\n",
       "    <tr>\n",
       "      <th>GRB210610B</th>\n",
       "      <td>30.0</td>\n",
       "      <td>380.0</td>\n",
       "      <td>1.13</td>\n",
       "    </tr>\n",
       "    <tr>\n",
       "      <th>GRB210619B</th>\n",
       "      <td>10.0</td>\n",
       "      <td>11000.0</td>\n",
       "      <td>1.94</td>\n",
       "    </tr>\n",
       "  </tbody>\n",
       "</table>\n",
       "</div>"
      ],
      "text/plain": [
       "GRB           E0     Emax  redshift\n",
       "GRB080916C  10.0    600.0      4.35\n",
       "GRB081221   10.0    300.0      2.26\n",
       "GRB090328   30.0    500.0      0.74\n",
       "GRB090618   10.0    700.0      0.54\n",
       "GRB090926A  10.0    800.0      2.11\n",
       "GRB091003A  10.0    800.0      0.90\n",
       "GRB100728A  40.0    400.0      1.57\n",
       "GRB120119A  25.0    500.0      1.73\n",
       "GRB130427A  10.0   5000.0      0.34\n",
       "GRB130518A  10.0   1200.0      2.49\n",
       "GRB130925A  10.0    300.0      0.35\n",
       "GRB131108A  20.0    500.0      2.40\n",
       "GRB131231A  10.0    713.0      0.64\n",
       "GRB140206A  20.0    320.0      2.73\n",
       "GRB140508A  10.0    720.0      1.03\n",
       "GRB141028A  40.0    400.0      2.33\n",
       "GRB150314A  20.0    800.0      1.76\n",
       "GRB150403A  35.0    700.0      2.06\n",
       "GRB150514A  20.0    200.0      0.81\n",
       "GRB150821A  10.0    280.0      0.76\n",
       "GRB160509A  10.0    800.0      1.17\n",
       "GRB160625B  10.0  20000.0      1.41\n",
       "GRB171010A  10.0    620.0      0.33\n",
       "GRB180703A  20.0    400.0      0.67\n",
       "GRB180720B  25.0  17000.0      0.65\n",
       "GRB190114C  10.0   5000.0      0.42\n",
       "GRB200613A  30.0    300.0      1.22\n",
       "GRB200829A  25.0   3500.0      1.25\n",
       "GRB201216C  15.0    700.0      1.10\n",
       "GRB210204A  10.0    400.0      0.88\n",
       "GRB210610B  30.0    380.0      1.13\n",
       "GRB210619B  10.0  11000.0      1.94"
      ]
     },
     "execution_count": 12,
     "metadata": {},
     "output_type": "execute_result"
    }
   ],
   "source": [
    "grbparam"
   ]
  },
  {
   "cell_type": "code",
   "execution_count": 13,
   "metadata": {},
   "outputs": [],
   "source": [
    "all_BE_df.drop(0, axis=1, inplace=True)"
   ]
  },
  {
   "cell_type": "code",
   "execution_count": 14,
   "metadata": {},
   "outputs": [],
   "source": [
    "new_df = pd.concat([grbparam, all_BE_df], axis=1)"
   ]
  },
  {
   "cell_type": "code",
   "execution_count": 15,
   "metadata": {},
   "outputs": [],
   "source": [
    "new_df.drop(['Emax'], axis=1, inplace=True)"
   ]
  },
  {
   "cell_type": "code",
   "execution_count": 17,
   "metadata": {},
   "outputs": [],
   "source": [
    "new_df = np.round(new_df, 2)"
   ]
  },
  {
   "cell_type": "code",
   "execution_count": 18,
   "metadata": {},
   "outputs": [],
   "source": [
    "new_df.to_latex('./outputs/BE/GRBBE.tex')"
   ]
  },
  {
   "cell_type": "code",
   "execution_count": null,
   "metadata": {},
   "outputs": [],
   "source": []
  }
 ],
 "metadata": {
  "kernelspec": {
   "display_name": "Python 3",
   "language": "python",
   "name": "python3"
  },
  "language_info": {
   "codemirror_mode": {
    "name": "ipython",
    "version": 3
   },
   "file_extension": ".py",
   "mimetype": "text/x-python",
   "name": "python",
   "nbconvert_exporter": "python",
   "pygments_lexer": "ipython3",
   "version": "3.10.6"
  },
  "orig_nbformat": 4
 },
 "nbformat": 4,
 "nbformat_minor": 2
}
