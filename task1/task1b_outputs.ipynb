{
 "cells": [
  {
   "cell_type": "code",
   "execution_count": 1,
   "metadata": {},
   "outputs": [],
   "source": [
    "import numpy as np\n",
    "import os\n",
    "import matplotlib.pyplot as plt\n",
    "import multiprocessing as mul\n",
    "from scipy import stats\n",
    "import pickle\n",
    "from scipy.integrate import quad\n",
    "from corner import corner\n",
    "import pandas as pd\n",
    "from scipy.stats import gaussian_kde\n",
    "import dynesty as dyn"
   ]
  },
  {
   "cell_type": "code",
   "execution_count": 2,
   "metadata": {},
   "outputs": [
    {
     "ename": "AttributeError",
     "evalue": "Can't get attribute 'loglike_linear' on <module '__main__'>",
     "output_type": "error",
     "traceback": [
      "\u001b[0;31m---------------------------------------------------------------------------\u001b[0m",
      "\u001b[0;31mAttributeError\u001b[0m                            Traceback (most recent call last)",
      "Cell \u001b[0;32mIn[2], line 1\u001b[0m\n\u001b[0;32m----> 1\u001b[0m dyn\u001b[39m.\u001b[39;49mutils\u001b[39m.\u001b[39;49mrestore_sampler(\u001b[39m'\u001b[39;49m\u001b[39m./outputs/sampler_saves/GRB080916C_linear_sampler.pkl\u001b[39;49m\u001b[39m'\u001b[39;49m)\n",
      "File \u001b[0;32m~/.local/lib/python3.10/site-packages/dynesty/utils.py:2264\u001b[0m, in \u001b[0;36mrestore_sampler\u001b[0;34m(fname, pool)\u001b[0m\n\u001b[1;32m   2244\u001b[0m \u001b[39m\u001b[39m\u001b[39m\"\"\"\u001b[39;00m\n\u001b[1;32m   2245\u001b[0m \u001b[39mRestore the dynamic sampler from a file.\u001b[39;00m\n\u001b[1;32m   2246\u001b[0m \u001b[39mIt is assumed that the file was created using .save() method\u001b[39;00m\n\u001b[0;32m   (...)\u001b[0m\n\u001b[1;32m   2261\u001b[0m \n\u001b[1;32m   2262\u001b[0m \u001b[39m\"\"\"\u001b[39;00m\n\u001b[1;32m   2263\u001b[0m \u001b[39mwith\u001b[39;00m \u001b[39mopen\u001b[39m(fname, \u001b[39m'\u001b[39m\u001b[39mrb\u001b[39m\u001b[39m'\u001b[39m) \u001b[39mas\u001b[39;00m fp:\n\u001b[0;32m-> 2264\u001b[0m     res \u001b[39m=\u001b[39m pickle_module\u001b[39m.\u001b[39;49mload(fp)\n\u001b[1;32m   2265\u001b[0m sampler \u001b[39m=\u001b[39m res[\u001b[39m'\u001b[39m\u001b[39msampler\u001b[39m\u001b[39m'\u001b[39m]\n\u001b[1;32m   2266\u001b[0m save_ver \u001b[39m=\u001b[39m res[\u001b[39m'\u001b[39m\u001b[39mversion\u001b[39m\u001b[39m'\u001b[39m]\n",
      "\u001b[0;31mAttributeError\u001b[0m: Can't get attribute 'loglike_linear' on <module '__main__'>"
     ]
    }
   ],
   "source": [
    "dyn.utils.restore_sampler('./outputs/sampler_saves/GRB080916C_linear_sampler.pkl')"
   ]
  },
  {
   "cell_type": "code",
   "execution_count": 7,
   "metadata": {},
   "outputs": [
    {
     "ename": "UnpicklingError",
     "evalue": "Failed to interpret file <_io.BufferedReader name='./outputs/sampler_saves/GRB080916C_linear_sampler.pkl'> as a pickle",
     "output_type": "error",
     "traceback": [
      "\u001b[0;31m---------------------------------------------------------------------------\u001b[0m",
      "\u001b[0;31mAttributeError\u001b[0m                            Traceback (most recent call last)",
      "File \u001b[0;32m~/.local/lib/python3.10/site-packages/numpy/lib/npyio.py:441\u001b[0m, in \u001b[0;36mload\u001b[0;34m(file, mmap_mode, allow_pickle, fix_imports, encoding, max_header_size)\u001b[0m\n\u001b[1;32m    440\u001b[0m \u001b[39mtry\u001b[39;00m:\n\u001b[0;32m--> 441\u001b[0m     \u001b[39mreturn\u001b[39;00m pickle\u001b[39m.\u001b[39;49mload(fid, \u001b[39m*\u001b[39;49m\u001b[39m*\u001b[39;49mpickle_kwargs)\n\u001b[1;32m    442\u001b[0m \u001b[39mexcept\u001b[39;00m \u001b[39mException\u001b[39;00m \u001b[39mas\u001b[39;00m e:\n",
      "\u001b[0;31mAttributeError\u001b[0m: Can't get attribute 'loglike_linear' on <module '__main__'>",
      "\nThe above exception was the direct cause of the following exception:\n",
      "\u001b[0;31mUnpicklingError\u001b[0m                           Traceback (most recent call last)",
      "Cell \u001b[0;32mIn[7], line 2\u001b[0m\n\u001b[1;32m      1\u001b[0m \u001b[39mwith\u001b[39;00m \u001b[39mopen\u001b[39m(\u001b[39m'\u001b[39m\u001b[39m./outputs/sampler_saves/GRB080916C_linear_sampler.pkl\u001b[39m\u001b[39m'\u001b[39m, \u001b[39m'\u001b[39m\u001b[39mrb\u001b[39m\u001b[39m'\u001b[39m) \u001b[39mas\u001b[39;00m f:\n\u001b[0;32m----> 2\u001b[0m     sampler \u001b[39m=\u001b[39m np\u001b[39m.\u001b[39;49mload(f, allow_pickle\u001b[39m=\u001b[39;49m\u001b[39mTrue\u001b[39;49;00m)\n",
      "File \u001b[0;32m~/.local/lib/python3.10/site-packages/numpy/lib/npyio.py:443\u001b[0m, in \u001b[0;36mload\u001b[0;34m(file, mmap_mode, allow_pickle, fix_imports, encoding, max_header_size)\u001b[0m\n\u001b[1;32m    441\u001b[0m     \u001b[39mreturn\u001b[39;00m pickle\u001b[39m.\u001b[39mload(fid, \u001b[39m*\u001b[39m\u001b[39m*\u001b[39mpickle_kwargs)\n\u001b[1;32m    442\u001b[0m \u001b[39mexcept\u001b[39;00m \u001b[39mException\u001b[39;00m \u001b[39mas\u001b[39;00m e:\n\u001b[0;32m--> 443\u001b[0m     \u001b[39mraise\u001b[39;00m pickle\u001b[39m.\u001b[39mUnpicklingError(\n\u001b[1;32m    444\u001b[0m         \u001b[39mf\u001b[39m\u001b[39m\"\u001b[39m\u001b[39mFailed to interpret file \u001b[39m\u001b[39m{\u001b[39;00mfile\u001b[39m!r}\u001b[39;00m\u001b[39m as a pickle\u001b[39m\u001b[39m\"\u001b[39m) \u001b[39mfrom\u001b[39;00m \u001b[39me\u001b[39;00m\n",
      "\u001b[0;31mUnpicklingError\u001b[0m: Failed to interpret file <_io.BufferedReader name='./outputs/sampler_saves/GRB080916C_linear_sampler.pkl'> as a pickle"
     ]
    }
   ],
   "source": [
    "with open('./outputs/sampler_saves/GRB080916C_linear_sampler.pkl', 'rb') as f:\n",
    "    sampler = np.load(f, allow_pickle=True)"
   ]
  },
  {
   "cell_type": "code",
   "execution_count": 8,
   "metadata": {},
   "outputs": [
    {
     "ename": "AttributeError",
     "evalue": "Can't get attribute 'loglike_linear' on <module '__main__'>",
     "output_type": "error",
     "traceback": [
      "\u001b[0;31m---------------------------------------------------------------------------\u001b[0m",
      "\u001b[0;31mAttributeError\u001b[0m                            Traceback (most recent call last)",
      "Cell \u001b[0;32mIn[8], line 1\u001b[0m\n\u001b[0;32m----> 1\u001b[0m dyn\u001b[39m.\u001b[39;49mNestedSampler\u001b[39m.\u001b[39;49mrestore(\u001b[39m'\u001b[39;49m\u001b[39m./outputs/sampler_saves/GRB080916C_linear_sampler.pkl\u001b[39;49m\u001b[39m'\u001b[39;49m)\n",
      "File \u001b[0;32m~/.local/lib/python3.10/site-packages/dynesty/nestedsamplers.py:281\u001b[0m, in \u001b[0;36mSuperSampler.restore\u001b[0;34m(fname, pool)\u001b[0m\n\u001b[1;32m    264\u001b[0m \u001b[39m@staticmethod\u001b[39m\n\u001b[1;32m    265\u001b[0m \u001b[39mdef\u001b[39;00m \u001b[39mrestore\u001b[39m(fname, pool\u001b[39m=\u001b[39m\u001b[39mNone\u001b[39;00m):\n\u001b[1;32m    266\u001b[0m \u001b[39m    \u001b[39m\u001b[39m\"\"\"\u001b[39;00m\n\u001b[1;32m    267\u001b[0m \u001b[39m    Restore the dynamic sampler from a file.\u001b[39;00m\n\u001b[1;32m    268\u001b[0m \u001b[39m    It is assumed that the file was created using .save() method\u001b[39;00m\n\u001b[0;32m   (...)\u001b[0m\n\u001b[1;32m    279\u001b[0m \n\u001b[1;32m    280\u001b[0m \u001b[39m    \"\"\"\u001b[39;00m\n\u001b[0;32m--> 281\u001b[0m     \u001b[39mreturn\u001b[39;00m restore_sampler(fname, pool\u001b[39m=\u001b[39;49mpool)\n",
      "File \u001b[0;32m~/.local/lib/python3.10/site-packages/dynesty/utils.py:2264\u001b[0m, in \u001b[0;36mrestore_sampler\u001b[0;34m(fname, pool)\u001b[0m\n\u001b[1;32m   2244\u001b[0m \u001b[39m\u001b[39m\u001b[39m\"\"\"\u001b[39;00m\n\u001b[1;32m   2245\u001b[0m \u001b[39mRestore the dynamic sampler from a file.\u001b[39;00m\n\u001b[1;32m   2246\u001b[0m \u001b[39mIt is assumed that the file was created using .save() method\u001b[39;00m\n\u001b[0;32m   (...)\u001b[0m\n\u001b[1;32m   2261\u001b[0m \n\u001b[1;32m   2262\u001b[0m \u001b[39m\"\"\"\u001b[39;00m\n\u001b[1;32m   2263\u001b[0m \u001b[39mwith\u001b[39;00m \u001b[39mopen\u001b[39m(fname, \u001b[39m'\u001b[39m\u001b[39mrb\u001b[39m\u001b[39m'\u001b[39m) \u001b[39mas\u001b[39;00m fp:\n\u001b[0;32m-> 2264\u001b[0m     res \u001b[39m=\u001b[39m pickle_module\u001b[39m.\u001b[39;49mload(fp)\n\u001b[1;32m   2265\u001b[0m sampler \u001b[39m=\u001b[39m res[\u001b[39m'\u001b[39m\u001b[39msampler\u001b[39m\u001b[39m'\u001b[39m]\n\u001b[1;32m   2266\u001b[0m save_ver \u001b[39m=\u001b[39m res[\u001b[39m'\u001b[39m\u001b[39mversion\u001b[39m\u001b[39m'\u001b[39m]\n",
      "\u001b[0;31mAttributeError\u001b[0m: Can't get attribute 'loglike_linear' on <module '__main__'>"
     ]
    }
   ],
   "source": [
    "dyn.NestedSampler.save()"
   ]
  },
  {
   "cell_type": "code",
   "execution_count": null,
   "metadata": {},
   "outputs": [],
   "source": []
  }
 ],
 "metadata": {
  "kernelspec": {
   "display_name": "Python 3",
   "language": "python",
   "name": "python3"
  },
  "language_info": {
   "codemirror_mode": {
    "name": "ipython",
    "version": 3
   },
   "file_extension": ".py",
   "mimetype": "text/x-python",
   "name": "python",
   "nbconvert_exporter": "python",
   "pygments_lexer": "ipython3",
   "version": "3.10.6"
  },
  "orig_nbformat": 4
 },
 "nbformat": 4,
 "nbformat_minor": 2
}
