{
 "cells": [
  {
   "cell_type": "code",
   "execution_count": 1,
   "metadata": {},
   "outputs": [],
   "source": [
    "import numpy as np\n",
    "import os\n",
    "import matplotlib.pyplot as plt\n",
    "import multiprocessing as mul\n",
    "from scipy import stats\n",
    "import pickle\n",
    "from scipy.integrate import quad\n",
    "from corner import corner\n",
    "import pandas as pd\n",
    "from scipy.stats import gaussian_kde\n",
    "import dynesty as dyn"
   ]
  },
  {
   "cell_type": "code",
   "execution_count": 2,
   "metadata": {},
   "outputs": [],
   "source": [
    "ncpu = int(mul.cpu_count()*0.75)\n",
    "grbparam = pd.read_csv(os.getcwd() + '/../data/GRBPARAM.csv', index_col=0)\n",
    "\n",
    "param_ranges_NULL = [(1e-20, 5000), (-3, 10), (-10, 3), (0, 3), (0, 4)]\n",
    "param_range_lin = [(1e-20, 1e20), (1e-20, 5000), (-3, 10), (-10, 3), (0, 3), (0, 4)]\n",
    "param_range_quad = [(1e-20, 1e15), (1e-20, 5000), (-3, 10), (-10, 3), (0, 3), (0, 4)]\n",
    "\n",
    "\n",
    "GRBs = ['GRB210619B', 'GRB210610B', 'GRB210204A', 'GRB201216C', 'GRB200829A', 'GRB200613A', 'GRB190114C', 'GRB180720B', 'GRB180703A', 'GRB171010A', 'GRB160625B', 'GRB160509A', 'GRB150821A', 'GRB150514A', 'GRB150403A', 'GRB150314A', 'GRB141028A', 'GRB140508A', 'GRB140206A', 'GRB131231A', 'GRB131108A', 'GRB130925A', 'GRB130518A', 'GRB130427A', 'GRB120119A', 'GRB100728A', 'GRB091003A', 'GRB090926A', 'GRB090618', 'GRB090328', 'GRB081221', 'GRB080916C']\n",
    "\n",
    "\n",
    "grb = 'GRB130925A'\n",
    "grbname = grb + '.txt'\n",
    "grbname_wtht_ext = grbname.replace('.txt','')\n",
    "\n",
    "\n",
    "arr = np.loadtxt(os.getcwd() + '/asciidataof_fig1/32lag/'+grbname)\n",
    "data = [arr[:,0], arr[:,1], arr[:,2]]\n",
    "x = arr[:,0]\n",
    "y = arr[:,1]\n",
    "yerr = arr[:,2]\n",
    "\n",
    "#Properties of GRB\n",
    "E0 = grbparam[grbname.replace('.txt','')].E0\n",
    "E0rest = E0\n",
    "Erest = arr[:,0]    #in keV\n",
    "z_com = grbparam[grbname.replace('.txt','')].redshift #redshift\n",
    "H0=67.36 #Hubble constant km -1 Mpc s -1\n",
    "omega_m = 0.315\n",
    "omega_l = 1 - omega_m"
   ]
  },
  {
   "cell_type": "code",
   "execution_count": 3,
   "metadata": {},
   "outputs": [],
   "source": [
    "#MODELS\n",
    "\n",
    "#NULL model\n",
    "def nullhp(E, Eb, alpha1, alpha2, mu, zeta):\n",
    "    \n",
    "    eob = (E - E0) / (Eb)\n",
    "    \n",
    "    return zeta * (eob**alpha1) * ((0.5 * ((1 + eob)**(1/mu))) ** ((alpha2 - alpha1) * mu))\n",
    "\n",
    "\n",
    "def int_z(z_prime, n):\n",
    "    integ_fn = lambda z: (1+z)**n / np.sqrt(omega_m * (1+z)**3 + omega_l)\n",
    "    return quad( integ_fn, a=0, b=z_prime)[0]\n",
    "\n",
    "int_z1 = np.asarray(int_z(z_com, 1))\n",
    "int_z2 = np.asarray(int_z(z_com, 2))\n",
    "\n",
    "#LINEAR model\n",
    "def linearhp(E, logEqg, Eb, alpha1, alpha2, mu, zeta):\n",
    "    \n",
    "    e0qg = (E - E0) / (10 ** logEqg)\n",
    "    \n",
    "    return - (e0qg * int_z1)/H0 + nullhp(E, Eb, alpha1, alpha2, mu, zeta)\n",
    "\n",
    "#QUADRATIC model\n",
    "def quadhp(E, logEqg, Eb, alpha1, alpha2, mu, zeta):\n",
    "    e0qg = (E**2 - E0 **2) / ((10 ** logEqg)**2)\n",
    "    \n",
    "    return -1.5 * (e0qg * int_z2)/H0 + nullhp(E, Eb, alpha1, alpha2, mu, zeta)"
   ]
  },
  {
   "cell_type": "code",
   "execution_count": 4,
   "metadata": {},
   "outputs": [],
   "source": [
    "#LOG-LIKELIHOODS\n",
    "def loglike_null(theta):\n",
    "    Eb, alpha1, alpha2, mu, zeta = theta\n",
    "    \n",
    "    if alpha1 >= alpha2:\n",
    "        model = nullhp(x,  Eb, alpha1, alpha2, mu, zeta)\n",
    "        \n",
    "        return sum(stats.norm.logpdf(*args) for args in zip(y,model,yerr))\n",
    "    \n",
    "    return -np.inf\n",
    "\n",
    "def loglike_linear(theta):\n",
    "    logEqg, Eb, alpha1, alpha2, mu, zeta = theta\n",
    "    \n",
    "    if alpha1 >= alpha2:\n",
    "        model = linearhp(x, logEqg, Eb, alpha1, alpha2, mu, zeta)\n",
    "        \n",
    "        return sum(stats.norm.logpdf(*args) for args in zip(y,model,yerr))\n",
    "    \n",
    "    return -np.inf\n",
    "\n",
    "def loglike_quad(theta):\n",
    "    logEqg, Eb, alpha1, alpha2, mu, zeta = theta\n",
    "    \n",
    "    if alpha1 >= alpha2:\n",
    "        model = quadhp(x, logEqg, Eb, alpha1, alpha2, mu, zeta)\n",
    "        \n",
    "        return sum(stats.norm.logpdf(*args) for args in zip(y,model,yerr))\n",
    "    \n",
    "    return -np.inf    "
   ]
  },
  {
   "cell_type": "code",
   "execution_count": 5,
   "metadata": {},
   "outputs": [],
   "source": [
    "#PRIORS\n",
    "Ebmax = 5000 #keV\n",
    "Ebmin = 0\n",
    "alpha1min = -3\n",
    "alpha1max = 10\n",
    "alpha2min = -10\n",
    "alpha2max = 3\n",
    "mumin = 0\n",
    "mumax = 3\n",
    "zetamin = 0\n",
    "zetamax = 4\n",
    "eqglinmin = 1e-20\n",
    "eqglinmax = 1e20\n",
    "eqquadmin = 1e-20\n",
    "eqquadmax = 1e15\n",
    "logeq1min = -20\n",
    "logeq1max = 20\n",
    "logeq2min = -20\n",
    "logeq2max = 15"
   ]
  },
  {
   "cell_type": "code",
   "execution_count": 6,
   "metadata": {},
   "outputs": [],
   "source": [
    "#PRIOR DISTRIBUTIONS\n",
    "\n",
    "def prior_transform_null(theta):\n",
    "    Eb, alpha1, alpha2, mu, zeta = theta\n",
    "    return [Ebmax * Eb + Ebmin, (alpha1max - alpha1min) * alpha1 + alpha1min, (alpha2max - alpha2min) * alpha2 + alpha2min, (mumax - mumin) * mu + mumin, (zetamax - zetamin) * zeta + zetamin]\n",
    "\n",
    "def prior_transform_linear(theta):\n",
    "    logEqg, Eb, alpha1, alpha2, mu, zeta = theta\n",
    "    return [(logeq1max - logeq1min) * logEqg + logeq1min, Ebmax * Eb + Ebmin, (alpha1max - alpha1min) * alpha1 + alpha1min, (alpha2max - alpha2min) * alpha2 + alpha2min, mumax * mu + mumin, zetamax * zeta + zetamin]\n",
    "\n",
    "def prior_transform_quadratic(theta):\n",
    "    logEqg, Eb, alpha1, alpha2, mu, zeta = theta\n",
    "    return [(logeq2max - logeq2min) * logEqg + logeq2min, Ebmax * Eb + Ebmin, (alpha1max - alpha1min) * alpha1 + alpha1min, (alpha2max - alpha2min) * alpha2 + alpha2min, mumax * mu + mumin, zetamax * zeta + zetamin]"
   ]
  },
  {
   "cell_type": "code",
   "execution_count": 7,
   "metadata": {},
   "outputs": [],
   "source": [
    "dasd = dyn.NestedSampler.restore(os.getcwd() + '/outputs/sampler_saves/' + 'GRB130925A' + '_null_sampler.hdf5')"
   ]
  },
  {
   "cell_type": "code",
   "execution_count": 8,
   "metadata": {},
   "outputs": [
    {
     "name": "stdout",
     "output_type": "stream",
     "text": [
      "Summary\n",
      "=======\n",
      "nlive: 1024\n",
      "niter: 21445\n",
      "ncall: 485271\n",
      "eff(%):  4.630\n",
      "logz: -55.898 +/-  0.120\n"
     ]
    }
   ],
   "source": [
    "dasd.results.summary()"
   ]
  },
  {
   "cell_type": "code",
   "execution_count": null,
   "metadata": {},
   "outputs": [],
   "source": [
    "dasd.results.be"
   ]
  },
  {
   "cell_type": "code",
   "execution_count": 9,
   "metadata": {},
   "outputs": [
    {
     "ename": "AttributeError",
     "evalue": "'Results' object has no attribute 'best_fit'",
     "output_type": "error",
     "traceback": [
      "\u001b[0;31m---------------------------------------------------------------------------\u001b[0m",
      "\u001b[0;31mAttributeError\u001b[0m                            Traceback (most recent call last)",
      "Cell \u001b[0;32mIn[9], line 1\u001b[0m\n\u001b[0;32m----> 1\u001b[0m dasd\u001b[39m.\u001b[39;49mresults\u001b[39m.\u001b[39;49mbest_fit\n",
      "\u001b[0;31mAttributeError\u001b[0m: 'Results' object has no attribute 'best_fit'"
     ]
    }
   ],
   "source": [
    "dasd.results.best_fit"
   ]
  },
  {
   "cell_type": "code",
   "execution_count": null,
   "metadata": {},
   "outputs": [],
   "source": []
  }
 ],
 "metadata": {
  "kernelspec": {
   "display_name": "Python 3",
   "language": "python",
   "name": "python3"
  },
  "language_info": {
   "codemirror_mode": {
    "name": "ipython",
    "version": 3
   },
   "file_extension": ".py",
   "mimetype": "text/x-python",
   "name": "python",
   "nbconvert_exporter": "python",
   "pygments_lexer": "ipython3",
   "version": "3.10.6"
  },
  "orig_nbformat": 4
 },
 "nbformat": 4,
 "nbformat_minor": 2
}
