{
 "cells": [
  {
   "cell_type": "code",
   "execution_count": 1,
   "metadata": {},
   "outputs": [],
   "source": [
    "import numpy as np\n",
    "import os\n",
    "import matplotlib.pyplot as plt\n",
    "import multiprocessing as mul\n",
    "from scipy import stats\n",
    "import pickle\n",
    "from scipy.integrate import quad\n",
    "from corner import corner\n",
    "import pandas as pd\n",
    "from scipy.stats import gaussian_kde\n",
    "import dynesty as dyn"
   ]
  },
  {
   "cell_type": "code",
   "execution_count": 2,
   "metadata": {},
   "outputs": [],
   "source": [
    "# GRBs = ['GRB210619B', 'GRB210610B', 'GRB210204A', 'GRB201216C', 'GRB200829A', 'GRB200613A', 'GRB190114C', 'GRB180720B', 'GRB180703A', 'GRB171010A', 'GRB160625B', 'GRB160509A', 'GRB150821A', 'GRB150514A', 'GRB150403A', 'GRB150314A', 'GRB141028A', 'GRB140508A', 'GRB140206A', 'GRB131231A', 'GRB131108A', 'GRB130925A', 'GRB130518A', 'GRB130427A', 'GRB120119A', 'GRB100728A', 'GRB091003A', 'GRB090926A', 'GRB090618', 'GRB090328', 'GRB081221', 'GRB080916C']\n",
    "GRBs = ['GRB131231A', 'GRB200829A']\n",
    "err_grb = GRBs\n",
    "grbparam = pd.read_csv(os.getcwd() + '/../data/GRBPARAM.csv', index_col=0)\n",
    "for grb in GRBs:\n",
    "    \n",
    "    \n",
    "    grbname = grb + '.txt'\n",
    "    grbname_wtht_ext = grbname.replace('.txt','')\n",
    "\n",
    "\n",
    "    arr = np.loadtxt(os.getcwd() + '/asciidataof_fig1/32lag/'+grbname)\n",
    "    data = [arr[:,0], arr[:,1], arr[:,2]]\n",
    "    x = arr[:,0]\n",
    "    y = arr[:,1]\n",
    "    yerr = arr[:,2]\n",
    "\n",
    "    #Properties of GRB\n",
    "    E0 = grbparam[grbname.replace('.txt','')].E0\n",
    "    E0rest = E0\n",
    "    Erest = arr[:,0]    #in keV\n",
    "    z_com = grbparam[grbname.replace('.txt','')].redshift #redshift\n",
    "    H0=67.36 #Hubble constant km -1 Mpc s -1\n",
    "    omega_m = 0.315\n",
    "    omega_l = 1 - omega_m\n",
    "    grb\n",
    "    #MODELS\n",
    "\n",
    "    #NULL model\n",
    "    def nullhp(E, alpha, tau):\n",
    "        return (1 + z_com)*(tau * ((E ** alpha) - (E0 ** alpha)))\n",
    "        \n",
    "\n",
    "\n",
    "    def int_z(z_prime, n):\n",
    "        integ_fn = lambda z: (1+z)**n / np.sqrt(omega_m * (1+z)**3 + omega_l)\n",
    "        return quad( integ_fn, a=0, b=z_prime)[0]\n",
    "\n",
    "    int_z1 = np.asarray(int_z(z_com, 1))\n",
    "    int_z2 = np.asarray(int_z(z_com, 2))\n",
    "\n",
    "    #LINEAR model\n",
    "    def linearhp(E, logEqg, alpha, tau):\n",
    "        \n",
    "        e0qg = (E - E0) / (10 ** logEqg)\n",
    "        \n",
    "        return - (e0qg * int_z1)/H0 + nullhp(E, alpha, tau)\n",
    "\n",
    "    #QUADRATIC model\n",
    "    def quadhp(E, logEqg, alpha, tau):\n",
    "        e0qg = (E**2 - E0 **2) / ((10 ** logEqg)**2)\n",
    "        \n",
    "        return -1.5 * (e0qg * int_z2)/H0 + nullhp(E, alpha, tau)\n",
    "    #LOG-LIKELIHOODS\n",
    "    def loglike_null(theta):\n",
    "        alpha, tau = theta\n",
    "        \n",
    "        \n",
    "        model = nullhp(x,  alpha, tau)\n",
    "        \n",
    "        return sum(stats.norm.logpdf(*args) for args in zip(y,model,yerr))\n",
    "        \n",
    "        \n",
    "\n",
    "    def loglike_linear(theta):\n",
    "        logEqg, alpha, tau = theta\n",
    "        \n",
    "        model = linearhp(x, logEqg, alpha, tau)\n",
    "        \n",
    "        return sum(stats.norm.logpdf(*args) for args in zip(y,model,yerr))\n",
    "\n",
    "    def loglike_quad(theta):\n",
    "        logEqg, alpha, tau = theta\n",
    "        \n",
    "        model = quadhp(x, logEqg, alpha, tau)\n",
    "        \n",
    "        return sum(stats.norm.logpdf(*args) for args in zip(y,model,yerr))\n",
    "\n",
    "\n",
    "    alphamin = -1\n",
    "    alphamax = 1\n",
    "    taumin = -10\n",
    "    taumax = 10\n",
    "    logeqmin = 6\n",
    "    logeqmax = 19\n",
    "    #PRIOR DISTRIBUTIONS\n",
    "\n",
    "    def prior_transform_null(theta):\n",
    "        alpha, tau = theta\n",
    "        return [(alphamax - alphamin) * alpha + alphamin, (taumax - taumin) * tau + taumin]\n",
    "\n",
    "    def prior_transform_linear(theta):\n",
    "        logEqg, alpha, tau = theta\n",
    "        return [(logeqmax - logeqmin) * logEqg + logeqmin, (alphamax - alphamin) * alpha + alphamin, (taumax - taumin) * tau + taumin]\n",
    "\n",
    "    def prior_transform_quadratic(theta):\n",
    "        logEqg, alpha, tau = theta\n",
    "        return [(logeqmax - logeqmin) * logEqg + logeqmin, (alphamax - alphamin) * alpha + alphamin, (taumax - taumin) * tau + taumin]\n",
    "\n",
    "    #Properties of GRB\n",
    "    E0 = grbparam[grbname.replace('.txt','')].E0\n",
    "    E0rest = E0\n",
    "    Erest = arr[:,0]    #in keV\n",
    "    z_com = grbparam[grbname.replace('.txt','')].redshift #redshift\n",
    "    threesamplers = ['_null_sampler.pkl', '_linear_sampler.pkl', '_quadratic_sampler.pkl']\n",
    "    sampler0 = dyn.utils.restore_sampler('./outputs/sampler_saves_xerr/' + grb + threesamplers[0])\n",
    "    sampler1 = dyn.utils.restore_sampler('./outputs/sampler_saves_xerr/' + grb + threesamplers[1])\n",
    "    sampler2 = dyn.utils.restore_sampler('./outputs/sampler_saves_xerr/' + grb + threesamplers[2])\n",
    "    results0 = sampler0.results\n",
    "    results1 = sampler1.results\n",
    "    results2 = sampler2.results\n",
    "    with open('outputs/BF_xerr/' + grb + '_results.txt', 'w') as f:\n",
    "        f.write(str(results0.logz[-1]) + ',' + str(results0.logzerr[-1]) + '\\n')\n",
    "        f.write(str(results1.logz[-1]) + ',' + str(results1.logzerr[-1]) + '\\n')\n",
    "        f.write(str(results2.logz[-1]) + ',' + str(results2.logzerr[-1]) + '\\n')"
   ]
  },
  {
   "cell_type": "code",
   "execution_count": 3,
   "metadata": {},
   "outputs": [],
   "source": [
    "data = []\n",
    "for grb in GRBs:\n",
    "    temp = np.loadtxt('./outputs/BF_xerr/' + grb + '_results.txt', delimiter=',')[:,0]\n",
    "    # data.append( [grb, grbparam[grb].E0, grbparam[grb].redshift, *np.exp(temp - temp[0])]  )\n",
    "    data.append( [grb, grbparam[grb].E0, grbparam[grb].redshift, *(temp - temp[0])]  )\n",
    "    # data.append( [grb, grbparam[grb].E0, grbparam[grb].redshift, *temp]  )"
   ]
  },
  {
   "cell_type": "code",
   "execution_count": 4,
   "metadata": {},
   "outputs": [],
   "source": [
    "df = pd.DataFrame(data, columns=['GRB', 'E0 (keV)', 'redshift', 'null', 'linear', 'quadratic']).sort_values('GRB', ascending=False).reset_index(drop=True)\n",
    "\n",
    "# df.to_latex('./outputs/BE/BE_table.txt', index=False, float_format=\"%.2f\")\n",
    "# df"
   ]
  },
  {
   "cell_type": "code",
   "execution_count": 5,
   "metadata": {},
   "outputs": [
    {
     "data": {
      "text/html": [
       "<div>\n",
       "<style scoped>\n",
       "    .dataframe tbody tr th:only-of-type {\n",
       "        vertical-align: middle;\n",
       "    }\n",
       "\n",
       "    .dataframe tbody tr th {\n",
       "        vertical-align: top;\n",
       "    }\n",
       "\n",
       "    .dataframe thead th {\n",
       "        text-align: right;\n",
       "    }\n",
       "</style>\n",
       "<table border=\"1\" class=\"dataframe\">\n",
       "  <thead>\n",
       "    <tr style=\"text-align: right;\">\n",
       "      <th></th>\n",
       "      <th>GRB</th>\n",
       "      <th>E0 (keV)</th>\n",
       "      <th>redshift</th>\n",
       "      <th>null</th>\n",
       "      <th>linear</th>\n",
       "      <th>quadratic</th>\n",
       "    </tr>\n",
       "  </thead>\n",
       "  <tbody>\n",
       "    <tr>\n",
       "      <th>0</th>\n",
       "      <td>GRB200829A</td>\n",
       "      <td>25.0</td>\n",
       "      <td>1.250</td>\n",
       "      <td>0.0</td>\n",
       "      <td>73.971082</td>\n",
       "      <td>74.963617</td>\n",
       "    </tr>\n",
       "    <tr>\n",
       "      <th>1</th>\n",
       "      <td>GRB131231A</td>\n",
       "      <td>10.0</td>\n",
       "      <td>0.642</td>\n",
       "      <td>0.0</td>\n",
       "      <td>-0.107455</td>\n",
       "      <td>2.722796</td>\n",
       "    </tr>\n",
       "  </tbody>\n",
       "</table>\n",
       "</div>"
      ],
      "text/plain": [
       "          GRB  E0 (keV)  redshift  null     linear  quadratic\n",
       "0  GRB200829A      25.0     1.250   0.0  73.971082  74.963617\n",
       "1  GRB131231A      10.0     0.642   0.0  -0.107455   2.722796"
      ]
     },
     "execution_count": 5,
     "metadata": {},
     "output_type": "execute_result"
    }
   ],
   "source": [
    "df"
   ]
  },
  {
   "cell_type": "code",
   "execution_count": 6,
   "metadata": {},
   "outputs": [],
   "source": [
    "data = []\n",
    "for i in os.listdir('./outputs/GOF_xerr/'):\n",
    "    # with open('./outputs/GOF/' + i, 'rb') as f:\n",
    "    #     data.append(np.load(f))\n",
    "    if i.endswith('_gof.txt'):\n",
    "        data.append([i.replace('_gof.txt', ''), *np.loadtxt('./outputs/GOF_xerr/' + i)])\n",
    "df2 = pd.DataFrame(data, columns=['GRB2', 'Null', 'Linear', 'Quadratic'])\n",
    "# df2.index = df2['GRB']\n",
    "\n",
    "df2.sort_values('GRB2', inplace=True, ascending=False)\n",
    "df2.reset_index(drop=True, inplace=True)\n",
    "# df2.drop('GRB', axis=1, inplace=True)"
   ]
  },
  {
   "cell_type": "code",
   "execution_count": 7,
   "metadata": {},
   "outputs": [
    {
     "data": {
      "text/html": [
       "<div>\n",
       "<style scoped>\n",
       "    .dataframe tbody tr th:only-of-type {\n",
       "        vertical-align: middle;\n",
       "    }\n",
       "\n",
       "    .dataframe tbody tr th {\n",
       "        vertical-align: top;\n",
       "    }\n",
       "\n",
       "    .dataframe thead th {\n",
       "        text-align: right;\n",
       "    }\n",
       "</style>\n",
       "<table border=\"1\" class=\"dataframe\">\n",
       "  <thead>\n",
       "    <tr style=\"text-align: right;\">\n",
       "      <th></th>\n",
       "      <th>GRB2</th>\n",
       "      <th>Null</th>\n",
       "      <th>Linear</th>\n",
       "      <th>Quadratic</th>\n",
       "    </tr>\n",
       "  </thead>\n",
       "  <tbody>\n",
       "    <tr>\n",
       "      <th>0</th>\n",
       "      <td>GRB200829A</td>\n",
       "      <td>5.425279</td>\n",
       "      <td>4.227550</td>\n",
       "      <td>4.066588</td>\n",
       "    </tr>\n",
       "    <tr>\n",
       "      <th>1</th>\n",
       "      <td>GRB131231A</td>\n",
       "      <td>0.576078</td>\n",
       "      <td>0.692593</td>\n",
       "      <td>1.359619</td>\n",
       "    </tr>\n",
       "  </tbody>\n",
       "</table>\n",
       "</div>"
      ],
      "text/plain": [
       "         GRB2      Null    Linear  Quadratic\n",
       "0  GRB200829A  5.425279  4.227550   4.066588\n",
       "1  GRB131231A  0.576078  0.692593   1.359619"
      ]
     },
     "execution_count": 7,
     "metadata": {},
     "output_type": "execute_result"
    }
   ],
   "source": [
    "df2"
   ]
  },
  {
   "cell_type": "code",
   "execution_count": 8,
   "metadata": {},
   "outputs": [],
   "source": [
    "final = pd.concat([df, df2], axis=1).drop('GRB2', axis=1)#.to_latex('./outputs/table.txt', index=False, float_format=\"%.2f\")"
   ]
  },
  {
   "cell_type": "code",
   "execution_count": 9,
   "metadata": {},
   "outputs": [],
   "source": [
    "final = final[['GRB', 'E0 (keV)', 'redshift', 'null', 'Null', 'linear', 'Linear', 'quadratic', 'Quadratic']]"
   ]
  },
  {
   "cell_type": "code",
   "execution_count": 10,
   "metadata": {},
   "outputs": [
    {
     "data": {
      "text/html": [
       "<div>\n",
       "<style scoped>\n",
       "    .dataframe tbody tr th:only-of-type {\n",
       "        vertical-align: middle;\n",
       "    }\n",
       "\n",
       "    .dataframe tbody tr th {\n",
       "        vertical-align: top;\n",
       "    }\n",
       "\n",
       "    .dataframe thead th {\n",
       "        text-align: right;\n",
       "    }\n",
       "</style>\n",
       "<table border=\"1\" class=\"dataframe\">\n",
       "  <thead>\n",
       "    <tr style=\"text-align: right;\">\n",
       "      <th></th>\n",
       "      <th>GRB</th>\n",
       "      <th>E0 (keV)</th>\n",
       "      <th>redshift</th>\n",
       "      <th>null</th>\n",
       "      <th>Null</th>\n",
       "      <th>linear</th>\n",
       "      <th>Linear</th>\n",
       "      <th>quadratic</th>\n",
       "      <th>Quadratic</th>\n",
       "    </tr>\n",
       "  </thead>\n",
       "  <tbody>\n",
       "    <tr>\n",
       "      <th>0</th>\n",
       "      <td>GRB200829A</td>\n",
       "      <td>25.0</td>\n",
       "      <td>1.250</td>\n",
       "      <td>0.0</td>\n",
       "      <td>5.425279</td>\n",
       "      <td>73.971082</td>\n",
       "      <td>4.227550</td>\n",
       "      <td>74.963617</td>\n",
       "      <td>4.066588</td>\n",
       "    </tr>\n",
       "    <tr>\n",
       "      <th>1</th>\n",
       "      <td>GRB131231A</td>\n",
       "      <td>10.0</td>\n",
       "      <td>0.642</td>\n",
       "      <td>0.0</td>\n",
       "      <td>0.576078</td>\n",
       "      <td>-0.107455</td>\n",
       "      <td>0.692593</td>\n",
       "      <td>2.722796</td>\n",
       "      <td>1.359619</td>\n",
       "    </tr>\n",
       "  </tbody>\n",
       "</table>\n",
       "</div>"
      ],
      "text/plain": [
       "          GRB  E0 (keV)  redshift  null      Null     linear    Linear   \n",
       "0  GRB200829A      25.0     1.250   0.0  5.425279  73.971082  4.227550  \\\n",
       "1  GRB131231A      10.0     0.642   0.0  0.576078  -0.107455  0.692593   \n",
       "\n",
       "   quadratic  Quadratic  \n",
       "0  74.963617   4.066588  \n",
       "1   2.722796   1.359619  "
      ]
     },
     "execution_count": 10,
     "metadata": {},
     "output_type": "execute_result"
    }
   ],
   "source": [
    "final"
   ]
  },
  {
   "cell_type": "code",
   "execution_count": 11,
   "metadata": {},
   "outputs": [],
   "source": [
    "final['null'] = final['null'].round(1)\n",
    "final['Null'] = final['Null'].round(1)\n",
    "final['linear'] = final['linear'].round(1)\n",
    "final['Linear'] = final['Linear'].round(1)\n",
    "final['quadratic'] = final['quadratic'].round(1)\n",
    "final['Quadratic'] = final['Quadratic'].round(1)"
   ]
  },
  {
   "cell_type": "code",
   "execution_count": 12,
   "metadata": {},
   "outputs": [
    {
     "data": {
      "text/html": [
       "<div>\n",
       "<style scoped>\n",
       "    .dataframe tbody tr th:only-of-type {\n",
       "        vertical-align: middle;\n",
       "    }\n",
       "\n",
       "    .dataframe tbody tr th {\n",
       "        vertical-align: top;\n",
       "    }\n",
       "\n",
       "    .dataframe thead th {\n",
       "        text-align: right;\n",
       "    }\n",
       "</style>\n",
       "<table border=\"1\" class=\"dataframe\">\n",
       "  <thead>\n",
       "    <tr style=\"text-align: right;\">\n",
       "      <th></th>\n",
       "      <th>GRB</th>\n",
       "      <th>E0 (keV)</th>\n",
       "      <th>redshift</th>\n",
       "      <th>null</th>\n",
       "      <th>Null</th>\n",
       "      <th>linear</th>\n",
       "      <th>Linear</th>\n",
       "      <th>quadratic</th>\n",
       "      <th>Quadratic</th>\n",
       "    </tr>\n",
       "  </thead>\n",
       "  <tbody>\n",
       "    <tr>\n",
       "      <th>0</th>\n",
       "      <td>GRB200829A</td>\n",
       "      <td>25.0</td>\n",
       "      <td>1.250</td>\n",
       "      <td>0.0</td>\n",
       "      <td>5.4</td>\n",
       "      <td>74.0</td>\n",
       "      <td>4.2</td>\n",
       "      <td>75.0</td>\n",
       "      <td>4.1</td>\n",
       "    </tr>\n",
       "    <tr>\n",
       "      <th>1</th>\n",
       "      <td>GRB131231A</td>\n",
       "      <td>10.0</td>\n",
       "      <td>0.642</td>\n",
       "      <td>0.0</td>\n",
       "      <td>0.6</td>\n",
       "      <td>-0.1</td>\n",
       "      <td>0.7</td>\n",
       "      <td>2.7</td>\n",
       "      <td>1.4</td>\n",
       "    </tr>\n",
       "  </tbody>\n",
       "</table>\n",
       "</div>"
      ],
      "text/plain": [
       "          GRB  E0 (keV)  redshift  null  Null  linear  Linear  quadratic   \n",
       "0  GRB200829A      25.0     1.250   0.0   5.4    74.0     4.2       75.0  \\\n",
       "1  GRB131231A      10.0     0.642   0.0   0.6    -0.1     0.7        2.7   \n",
       "\n",
       "   Quadratic  \n",
       "0        4.1  \n",
       "1        1.4  "
      ]
     },
     "execution_count": 12,
     "metadata": {},
     "output_type": "execute_result"
    }
   ],
   "source": [
    "final"
   ]
  },
  {
   "cell_type": "code",
   "execution_count": 13,
   "metadata": {},
   "outputs": [],
   "source": [
    "final.to_latex('./outputs/table_xerr.tex', index=False, float_format=\"%.2f\")"
   ]
  },
  {
   "cell_type": "code",
   "execution_count": 14,
   "metadata": {},
   "outputs": [],
   "source": [
    "temp = final.sort_values('linear', ascending=False)"
   ]
  },
  {
   "cell_type": "code",
   "execution_count": 15,
   "metadata": {},
   "outputs": [],
   "source": [
    "temp.reset_index(drop=True, inplace=True)"
   ]
  },
  {
   "cell_type": "code",
   "execution_count": 16,
   "metadata": {},
   "outputs": [
    {
     "data": {
      "text/plain": [
       "1"
      ]
     },
     "execution_count": 16,
     "metadata": {},
     "output_type": "execute_result"
    }
   ],
   "source": [
    "len(temp[temp['linear'] > np.log(100)])"
   ]
  },
  {
   "cell_type": "code",
   "execution_count": 17,
   "metadata": {},
   "outputs": [
    {
     "data": {
      "text/plain": [
       "1"
      ]
     },
     "execution_count": 17,
     "metadata": {},
     "output_type": "execute_result"
    }
   ],
   "source": [
    "len(temp[temp['quadratic'] > np.log(100)])"
   ]
  },
  {
   "cell_type": "code",
   "execution_count": null,
   "metadata": {},
   "outputs": [],
   "source": []
  },
  {
   "cell_type": "code",
   "execution_count": null,
   "metadata": {},
   "outputs": [],
   "source": []
  }
 ],
 "metadata": {
  "kernelspec": {
   "display_name": "Python 3",
   "language": "python",
   "name": "python3"
  },
  "language_info": {
   "codemirror_mode": {
    "name": "ipython",
    "version": 3
   },
   "file_extension": ".py",
   "mimetype": "text/x-python",
   "name": "python",
   "nbconvert_exporter": "python",
   "pygments_lexer": "ipython3",
   "version": "3.10.12"
  },
  "orig_nbformat": 4
 },
 "nbformat": 4,
 "nbformat_minor": 2
}
