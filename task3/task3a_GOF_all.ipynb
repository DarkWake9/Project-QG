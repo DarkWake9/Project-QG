{
 "cells": [
  {
   "cell_type": "code",
   "execution_count": 28,
   "metadata": {},
   "outputs": [],
   "source": [
    "import numpy as np\n",
    "import os\n",
    "import matplotlib.pyplot as plt\n",
    "import multiprocessing as mul\n",
    "from scipy import stats\n",
    "import pickle\n",
    "from scipy.integrate import quad\n",
    "from corner import corner\n",
    "import pandas as pd\n",
    "from scipy.stats import gaussian_kde\n",
    "import dynesty as dyn\n",
    "data = []\n",
    "for i in os.listdir('./outputs/GOF/'):\n",
    "    # with open('./outputs/GOF/' + i, 'rb') as f:\n",
    "    #     data.append(np.load(f))\n",
    "    if i.endswith('_GOF.txt'):\n",
    "        data.append([i.replace('_GOF.txt', ''), *np.loadtxt('./outputs/GOF/' + i)])\n",
    "df = pd.DataFrame(data, columns=['GRB', 'Null', 'Linear', 'Quadratic'])\n",
    "df.index = df['GRB']\n",
    "df.drop('GRB', axis=1, inplace=True)\n",
    "df.sort_index(inplace=True, ascending=False)\n",
    "df.to_latex('./outputs/GOF/GOF_table.tex', float_format='%.2f', index=True)\n"
   ]
  },
  {
   "cell_type": "code",
   "execution_count": null,
   "metadata": {},
   "outputs": [],
   "source": []
  }
 ],
 "metadata": {
  "kernelspec": {
   "display_name": "Python 3",
   "language": "python",
   "name": "python3"
  },
  "language_info": {
   "codemirror_mode": {
    "name": "ipython",
    "version": 3
   },
   "file_extension": ".py",
   "mimetype": "text/x-python",
   "name": "python",
   "nbconvert_exporter": "python",
   "pygments_lexer": "ipython3",
   "version": "3.10.6"
  },
  "orig_nbformat": 4
 },
 "nbformat": 4,
 "nbformat_minor": 2
}
