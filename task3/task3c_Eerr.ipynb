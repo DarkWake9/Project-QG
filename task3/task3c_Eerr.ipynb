{
 "cells": [
  {
   "cell_type": "code",
   "execution_count": 1,
   "metadata": {},
   "outputs": [],
   "source": [
    "import numpy as np\n",
    "import os\n",
    "import matplotlib.pyplot as plt\n",
    "import multiprocessing as mul\n",
    "from scipy import stats\n",
    "import pickle\n",
    "from scipy.integrate import quad\n",
    "from corner import corner\n",
    "import pandas as pd\n",
    "import dynesty as dyn"
   ]
  },
  {
   "cell_type": "code",
   "execution_count": 2,
   "metadata": {},
   "outputs": [
    {
     "data": {
      "text/plain": [
       "'/scratch/Project-QG/task3'"
      ]
     },
     "execution_count": 2,
     "metadata": {},
     "output_type": "execute_result"
    }
   ],
   "source": [
    "pwd"
   ]
  },
  {
   "cell_type": "code",
   "execution_count": 3,
   "metadata": {},
   "outputs": [],
   "source": [
    "GRBs = ['GRB210619B', 'GRB210610B', 'GRB210204A', 'GRB201216C', 'GRB200829A', 'GRB200613A', 'GRB190114C', 'GRB180720B', 'GRB180703A', 'GRB171010A', 'GRB160625B', 'GRB160509A', 'GRB150821A', 'GRB150514A', 'GRB150403A', 'GRB150314A', 'GRB141028A', 'GRB140508A', 'GRB140206A', 'GRB131231A', 'GRB131108A', 'GRB130925A', 'GRB130518A', 'GRB130427A', 'GRB120119A', 'GRB100728A', 'GRB091003A', 'GRB090926A', 'GRB090618', 'GRB090328', 'GRB081221', 'GRB080916C']"
   ]
  },
  {
   "cell_type": "code",
   "execution_count": null,
   "metadata": {},
   "outputs": [],
   "source": []
  },
  {
   "cell_type": "markdown",
   "metadata": {},
   "source": [
    "#### Agarwal Null Hypo error\n",
    "\n",
    "$\\quad \\dfrac{d\\Delta t_{int}}{dE} = (1 + z)\\tau\\dfrac{E}{keV}^{\\alpha - 1}$\n",
    "\n",
    "\n",
    "#### L.I.V error\n",
    "\n",
    "$\\quad \\dfrac{d\\Delta t_{LIV}}{dE} = \\dfrac{1 + n}{2H_0}\\cdot\\dfrac{n E^{n-1}}{E_{QG}^{n}} {\\huge \\int}  _{0}^{z} \\quad \\dfrac{\\left(1+z^{\\prime}\\right)^{n} d z^{\\prime}}{\\sqrt{\\Omega_{\\mathrm{m}}\\left(1+z^{\\prime}\\right)^{3}+\\Omega_{\\Lambda}}}$\n",
    "\n",
    "\n",
    "#### Total error\n",
    "$\\quad \\dfrac{d(\\Delta t_{int} + \\Delta t_{LIV})}{dE}$\n"
   ]
  },
  {
   "cell_type": "code",
   "execution_count": 4,
   "metadata": {},
   "outputs": [],
   "source": [
    "grb = 'GRB131231A'\n",
    "\n",
    "grbname = grb + '.txt'\n",
    "grbname_wtht_ext = grbname.replace('.txt','')\n",
    "grbparam = pd.read_csv('../data/GRBPARAM.csv', index_col=0)\n",
    "\n",
    "arr = np.loadtxt('../data/asciidataof_fig1/32lag/'+grbname)\n",
    "data = [arr[:,0], arr[:,1], arr[:,2]]\n",
    "x = arr[:,0]\n",
    "y = arr[:,1]\n",
    "yerr = arr[:,2]\n",
    "df = pd.read_csv('../data/32lag_err/' + grb + '.txt', sep='\\s+', header=None, names=['E_obs', 'E_obs_err', 'lag', 'lag_err'])\n",
    "E_err = df['E_obs_err'].values\n",
    "\n",
    "#Properties of GRB\n",
    "E0 = grbparam[grbname.replace('.txt','')].E0\n",
    "E0rest = E0\n",
    "Erest = arr[:,0]    #in keV\n",
    "z_com = grbparam[grbname.replace('.txt','')].redshift #redshift\n",
    "H0=67.36 #Hubble constant km -1 Mpc s -1\n",
    "omega_m = 0.315\n",
    "omega_l = 1 - omega_m\n",
    "\n",
    "lin_conv_fac = 3.0856 * 10**13\n",
    "quad_conv_fac = 3.0856 * 10**7\n",
    "\n",
    "def nullhp(E, alpha, tau):\n",
    "    return (1 + z_com)*(tau * ((E ** alpha) - (E0 ** alpha)))\n",
    "        \n",
    "\n",
    "\n",
    "def int_z(z_prime, n):\n",
    "    integ_fn = lambda z: (1+z)**n / np.sqrt(omega_m * (1+z)**3 + omega_l)\n",
    "    return quad( integ_fn, a=0, b=z_prime)[0]\n",
    "\n",
    "int_z1 = np.asarray(int_z(z_com, 1))\n",
    "int_z2 = np.asarray(int_z(z_com, 2))\n",
    "\n",
    "#LINEAR model\n",
    "def linearhp(E, logEqg, alpha, tau):\n",
    "    \n",
    "    e0qg = (E - E0) / (10 ** logEqg)\n",
    "    \n",
    "    return (lin_conv_fac * e0qg * int_z1)/H0 + nullhp(E, alpha, tau)\n",
    "\n",
    "#QUADRATIC model\n",
    "def quadhp(E, logEqg, alpha, tau):\n",
    "    e0qg = (E**2 - E0 **2) / ((10 ** logEqg)**2)\n",
    "    \n",
    "    return 1.5 * (quad_conv_fac * e0qg * int_z2)/H0 + nullhp(E, alpha, tau)\n",
    "\n",
    "\n",
    "#LOG-LIKELIHOODS\n",
    "def loglike_null(theta):\n",
    "    alpha, tau = theta\n",
    "    \n",
    "    \n",
    "    model = nullhp(x,  alpha, tau)\n",
    "    \n",
    "    return sum(stats.norm.logpdf(*args) for args in zip(y,model,yerr))\n",
    "    \n",
    "    \n",
    "\n",
    "def loglike_linear(theta):\n",
    "    logEqg, alpha, tau = theta\n",
    "    \n",
    "    model = linearhp(x, logEqg, alpha, tau)\n",
    "    \n",
    "    return sum(stats.norm.logpdf(*args) for args in zip(y,model,yerr))\n",
    "\n",
    "def loglike_quad(theta):\n",
    "    logEqg, alpha, tau = theta\n",
    "    \n",
    "    model = quadhp(x, logEqg, alpha, tau)\n",
    "    \n",
    "    return sum(stats.norm.logpdf(*args) for args in zip(y,model,yerr))\n",
    "\n",
    "\n",
    "#PRIORS\n",
    "\n",
    "alphamin = -2\n",
    "alphamax = 1\n",
    "taumin = -15\n",
    "taumax = 10\n",
    "logeqmin = 0\n",
    "logeqmax = 20\n",
    "\n",
    "\n",
    "#PRIOR DISTRIBUTIONS\n",
    "\n",
    "def prior_transform_null(theta):\n",
    "    alpha, tau = theta\n",
    "    return [(alphamax - alphamin) * alpha + alphamin, (taumax - taumin) * tau + taumin]\n",
    "\n",
    "def prior_transform_linear(theta):\n",
    "    logEqg, alpha, tau = theta\n",
    "    return [(logeqmax - logeqmin) * logEqg + logeqmin, (alphamax - alphamin) * alpha + alphamin, (taumax - taumin) * tau + taumin]\n",
    "\n",
    "def prior_transform_quadratic(theta):\n",
    "    logEqg, alpha, tau = theta\n",
    "    return [(logeqmax - logeqmin) * logEqg + logeqmin, (alphamax - alphamin) * alpha + alphamin, (taumax - taumin) * tau + taumin]"
   ]
  },
  {
   "cell_type": "code",
   "execution_count": 5,
   "metadata": {},
   "outputs": [],
   "source": [
    "#agarwal22:\n",
    "\n",
    "\n",
    "def ddeltatdE_int(E, alpha, tau):\n",
    "    uncertainity_int = (1 + z_com)*(tau * alpha* (E ** (alpha - 1)))\n",
    "    return uncertainity_int * nullhp(E, alpha, tau)\n",
    "\n",
    "def ddeltatdE_LIV_lin(E, logEqg, alpha, tau):\n",
    "    de0qg = 1 / (10 ** logEqg)\n",
    "    null_err = ddeltatdE_int(E, alpha, tau)\n",
    "    \n",
    "    uncertainity_LIV = (lin_conv_fac * de0qg * int_z1)/H0\n",
    "    \n",
    "    return uncertainity_LIV + null_err\n",
    "\n",
    "def ddeltatdE_LIV_quad(E, logEqg, alpha, tau):\n",
    "    de0qg = 2 * E / ((10 ** logEqg)**2)\n",
    "    \n",
    "    null_err = ddeltatdE_int(E, alpha, tau)\n",
    "    uncertainity_LIV = 1.5*(quad_conv_fac * de0qg * int_z2)/H0\n",
    "    \n",
    "    return uncertainity_LIV + null_err\n",
    "\n",
    "\n",
    "def chi2_all_hypo(E, E_err, y, yerr, n, alpha, tau, logEqg = 0):\n",
    "    \n",
    "    if n == 0:\n",
    "        err = np.sqrt(yerr**2 + (ddeltatdE_int(E, alpha, tau) * E_err)**2)\n",
    "        return np.sum(((y - nullhp(E, alpha, tau))/err)**2)/(len(y) - 2)\n",
    "    \n",
    "    elif n == 1:\n",
    "        err = np.sqrt(yerr**2 + (ddeltatdE_LIV_lin(E, logEqg, alpha, tau) * E_err)**2)\n",
    "    \n",
    "        return np.sum(((y - linearhp(E, logEqg, alpha, tau))/err)**2)/(len(y) - 3)\n",
    "    \n",
    "    elif n == 2:\n",
    "        err = np.sqrt(yerr**2 + (ddeltatdE_LIV_quad(E, logEqg, alpha, tau) * E_err)**2)\n",
    "        \n",
    "        return np.sum(((y - quadhp(E, logEqg, alpha, tau))/err)**2)/(len(y) - 3)    "
   ]
  },
  {
   "cell_type": "code",
   "execution_count": 6,
   "metadata": {},
   "outputs": [],
   "source": [
    "#Properties of GRB\n",
    "E0 = grbparam[grbname.replace('.txt','')].E0\n",
    "E0rest = E0\n",
    "Erest = arr[:,0]    #in keV\n",
    "z_com = grbparam[grbname.replace('.txt','')].redshift #redshift\n",
    "threesamplers = ['_null_sampler.pkl', '_linear_sampler.pkl', '_quadratic_sampler.pkl']\n",
    "sampler0 = dyn.utils.restore_sampler('./outputs/sampler_saves/' + grb + threesamplers[0])\n",
    "sampler1 = dyn.utils.restore_sampler('./outputs/sampler_saves/' + grb + threesamplers[1])\n",
    "sampler2 = dyn.utils.restore_sampler('./outputs/sampler_saves/' + grb + threesamplers[2])\n",
    "results0 = sampler0.results\n",
    "results1 = sampler1.results\n",
    "results2 = sampler2.results\n",
    "\n",
    "nplot = 1000\n",
    "E = np.linspace(min(Erest), max(Erest), nplot)\n",
    "samples0 = dyn.utils.resample_equal( results0.samples, np.exp(results0.logwt - results0.logz[-1]))\n",
    "# samples0 = np.median(samples0, axis=0)\n",
    "samples0 = samples0[np.argmax(results0.logl)]\n",
    "\n",
    "samples1 = dyn.utils.resample_equal( results1.samples, np.exp(results1.logwt - results1.logz[-1]))\n",
    "# samples1 = np.median(samples1, axis=0)\n",
    "samples1 = samples1[np.argmax(results1.logl)]\n",
    "\n",
    "samples2 = dyn.utils.resample_equal( results2.samples, np.exp(results2.logwt - results2.logz[-1]))\n",
    "# samples2 = np.median(samples2, axis=0)\n",
    "samples2 = samples2[np.argmax(results2.logl)]\n",
    "null_fit = [nullhp(E[i], samples0[0], samples0[1]) for i in range(nplot)]\n",
    "liv_lin_fit = [linearhp(E[i], samples1[0], samples1[1], samples1[2]) for i in range(nplot)]\n",
    "liv_quad_fit = [quadhp(E[i], samples2[0], samples2[1], samples2[2]) for i in range(nplot)]"
   ]
  },
  {
   "cell_type": "code",
   "execution_count": 7,
   "metadata": {},
   "outputs": [
    {
     "data": {
      "text/plain": [
       "array([ -0.22112203, -14.97609177])"
      ]
     },
     "execution_count": 7,
     "metadata": {},
     "output_type": "execute_result"
    }
   ],
   "source": [
    "samples0"
   ]
  },
  {
   "cell_type": "code",
   "execution_count": 8,
   "metadata": {},
   "outputs": [],
   "source": [
    "gof_null = chi2_all_hypo(Erest, E_err, y, yerr, 0, samples0[0], samples0[1])\n",
    "gof_lin = chi2_all_hypo(Erest, E_err, y, yerr, 1, samples1[1], samples1[2], samples1[0])\n",
    "gof_quad = chi2_all_hypo(Erest, E_err, y, yerr, 2, samples2[1], samples2[2], samples2[0])"
   ]
  },
  {
   "cell_type": "code",
   "execution_count": 11,
   "metadata": {},
   "outputs": [
    {
     "data": {
      "text/plain": [
       "(1.7234661216662257, 1.8122018239958362, 1.756266589954241)"
      ]
     },
     "execution_count": 11,
     "metadata": {},
     "output_type": "execute_result"
    }
   ],
   "source": [
    "gof_null, gof_lin, gof_quad"
   ]
  },
  {
   "cell_type": "code",
   "execution_count": 10,
   "metadata": {},
   "outputs": [
    {
     "data": {
      "image/png": "[encoded data removed]",
      "text/plain": [
       "<Figure size 640x480 with 1 Axes>"
      ]
     },
     "metadata": {},
     "output_type": "display_data"
    }
   ],
   "source": [
    "nplot = 1000\n",
    "E = np.linspace(min(Erest), max(Erest), nplot)\n",
    "\n",
    "plt.figure()\n",
    "plt.errorbar(Erest, y, yerr, fmt='o', color='black', label='data')\n",
    "plt.plot(E, null_fit, label='Null fit')\n",
    "plt.plot(E, liv_lin_fit,label='Linear fit', ls='-.', lw = 2.2)\n",
    "plt.plot(E, liv_quad_fit, label='Quadratic fit')\n",
    "plt.xscale('log')\n",
    "# plt.yscale('log')\n",
    "plt.ylim(min(y) - max(abs(yerr)), max(y) + max(abs(yerr)))\n",
    "# plt.ylim(-200, 20)\n",
    "plt.legend()\n",
    "plt.xlabel('E (keV)')\n",
    "plt.ylabel('lag (s)')\n",
    "plt.title(grbname_wtht_ext)\n",
    "# plt.savefig(os.getcwd() + '/outputs/fits/' + grbname_wtht_ext + '_fit_logE.png', facecolor='white')\n",
    "plt.show()"
   ]
  },
  {
   "cell_type": "code",
   "execution_count": null,
   "metadata": {},
   "outputs": [],
   "source": []
  }
 ],
 "metadata": {
  "kernelspec": {
   "display_name": "Python 3",
   "language": "python",
   "name": "python3"
  },
  "language_info": {
   "codemirror_mode": {
    "name": "ipython",
    "version": 3
   },
   "file_extension": ".py",
   "mimetype": "text/x-python",
   "name": "python",
   "nbconvert_exporter": "python",
   "pygments_lexer": "ipython3",
   "version": "3.10.12"
  },
  "orig_nbformat": 4
 },
 "nbformat": 4,
 "nbformat_minor": 2
}
