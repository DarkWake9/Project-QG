{
 "cells": [
  {
   "cell_type": "code",
   "execution_count": 1,
   "metadata": {},
   "outputs": [],
   "source": [
    "import numpy as np\n",
    "import os\n",
    "import matplotlib.pyplot as plt\n",
    "import emcee\n",
    "from scipy.special import ndtri\n",
    "import multiprocessing as mul\n",
    "from scipy import stats\n",
    "import pickle\n",
    "from scipy.integrate import quad\n",
    "from corner import corner\n",
    "import pandas as pd"
   ]
  },
  {
   "cell_type": "code",
   "execution_count": 2,
   "metadata": {},
   "outputs": [],
   "source": [
    "grbparam = pd.read_csv('GRBPARAM.csv', index_col=0)\n",
    "# [grbname.replace('.txt','')]"
   ]
  },
  {
   "cell_type": "code",
   "execution_count": 3,
   "metadata": {},
   "outputs": [],
   "source": [
    "grbname = 'GRB081221.txt'\n",
    "arr = np.loadtxt(os.getcwd() + '/asciidataof_fig1/32lag/'+grbname)\n",
    "grbname_wtht_ext = grbname.replace('.txt','')\n",
    "#Properties of GRB081221\n",
    "E0 = grbparam[grbname.replace('.txt','')].E0\n",
    "E0rest = E0\n",
    "Erest = arr[:,0]    #in keV\n",
    "z_com = grbparam[grbname.replace('.txt','')].redshift #redshift\n",
    "nplot = 1000 #burn-in\n",
    "H0=70 #km/s/Mpc Taken from Sir's Code\n",
    "param_ranges_NULL = [(1e-20, 5000), (-3, 10), (-10, 3), (1e-20, 3), (1e-20, 4)]\n",
    "param_range_lin = [(1e-20, 1e20), (1e-20, 5000), (-3, 10), (-10, 3), (1e-20, 3), (1e-20, 4)]\n",
    "param_range_quad = [(1e-20, 1e15), (1e-20, 5000), (-3, 10), (-10, 3), (1e-20, 3), (1e-20, 4)]\n",
    "data = [arr[:,0], arr[:,1], arr[:,2]]\n",
    "\n",
    "\n",
    "M = len(data[0])\n",
    "\n",
    "\n",
    "x = arr[:,0]\n",
    "y = arr[:,1]\n",
    "yerr = arr[:,2]"
   ]
  },
  {
   "cell_type": "code",
   "execution_count": 4,
   "metadata": {},
   "outputs": [
    {
     "data": {
      "image/png": "[encoded data removed]",
      "text/plain": [
       "<Figure size 640x480 with 1 Axes>"
      ]
     },
     "metadata": {},
     "output_type": "display_data"
    }
   ],
   "source": [
    "# plt.plot(arr[:,0], arr[:,1], '*')\n",
    "plt.errorbar(arr[:,0], arr[:,1], yerr=arr[:,2], fmt='*')\n",
    "plt.xlabel('E (keV)')\n",
    "plt.xscale('log')\n",
    "plt.show()"
   ]
  },
  {
   "cell_type": "code",
   "execution_count": 5,
   "metadata": {},
   "outputs": [],
   "source": [
    "def MODEL_delta_t_intrinsic(E, Eb, alpha1, alpha2, mu, zeta):\n",
    "    \n",
    "    E0b = (E - E0)/(Eb)\n",
    "    return zeta * (E0b ** alpha1) * (1 + E0b ** ((alpha2 - alpha1)*mu))/2\n",
    "\n",
    "\n",
    "def int_over_red_shift(z, n):\n",
    "    '''\n",
    "    Integrate over redshift\n",
    "    \n",
    "    Parameters\n",
    "    ----------\n",
    "    z : float\n",
    "        Redshift\n",
    "    n : float\n",
    "        LIV Polynomial power        \n",
    "    '''\n",
    "    \n",
    "    \n",
    "    #    f = lambda x: ((1+x)**n)/h_gp(x)\n",
    "    f = lambda x: ((1+x)**n)/np.sqrt(0.3*(1+x)**3 + 0.7)\n",
    "    return quad(f, 0, z)[0]\n",
    "\n",
    "\n",
    "K_z1 = int_over_red_shift(z_com,1)\n",
    "K_z2 = int_over_red_shift(z_com,2)\n",
    "\t\n",
    "def linear(E, z, logE_qg, Eb, alpha1, alpha2, mu, zeta):\n",
    "    K_z= np.asarray(K_z1)\n",
    "    return MODEL_delta_t_intrinsic(E, Eb, alpha1, alpha2, mu, zeta) + (-(10**14)/(H0*3.24))*((E - E0)*K_z/((10**logE_qg)*(1+z)))\n",
    "\n",
    "def quadratic(E, z, logE_qg, Eb, alpha1, alpha2, mu, zeta):\n",
    "    E_0=E0rest/(1+z)\n",
    "    Eres=E/(1+z)\n",
    "    K_z = np.asarray(K_z2)\n",
    "    return MODEL_delta_t_intrinsic(E, Eb, alpha1, alpha2, mu, zeta) + (-1.5*(10**8)/(H0*3.24))*((Eres**2 - E_0**2)*K_z/(10**logE_qg)**2)"
   ]
  },
  {
   "cell_type": "code",
   "execution_count": 6,
   "metadata": {},
   "outputs": [],
   "source": [
    "def loglklhood_null_HP(theta):\n",
    "    # if E0 in args:\n",
    "    # x, y, yerr = data\n",
    "    Eb, alpha1, alpha2, mu, zeta = theta\n",
    "    \n",
    "    if alpha1 >= alpha2:\n",
    "        model = MODEL_delta_t_intrinsic(x, Eb, alpha1, alpha2, mu, zeta)\n",
    "        return sum(stats.norm.logpdf(*args) for args in zip(y,model,yerr))\n",
    "    return -np.inf\n",
    "\n",
    "def loglklhood_LIV_lin(theta1):\n",
    "    \n",
    "    logE_qg, Eb, alpha1, alpha2, mu, zeta = theta1\n",
    "    \n",
    "    if alpha1 >= alpha2:\n",
    "        model = linear(x, z_com, logE_qg, Eb, alpha1, alpha2, mu, zeta)    \n",
    "        return sum(stats.norm.logpdf(*rgs) for rgs in zip(y,model,yerr))\n",
    "    return -np.inf\n",
    "\n",
    "def loglklhood_LIV_quad(theta2):\n",
    "    \n",
    "    logE_qg, Eb, alpha1, alpha2, mu, zeta = theta2\n",
    "    if alpha1 >= alpha2:\n",
    "        model = linear(x, z_com, logE_qg, Eb, alpha1, alpha2, mu, zeta)    \n",
    "        return sum(stats.norm.logpdf(*rgs) for rgs in zip(y,model,yerr))\n",
    "    return -np.inf"
   ]
  },
  {
   "cell_type": "code",
   "execution_count": 19,
   "metadata": {},
   "outputs": [],
   "source": [
    "def log_prior_null(theta):\n",
    "    Eb, alpha1, alpha2, mu, zeta = theta\n",
    "    \n",
    "    if param_ranges_NULL[0][0] < Eb < param_ranges_NULL[0][1] and param_ranges_NULL[1][0] < alpha1 < param_ranges_NULL[1][1] and param_ranges_NULL[2][0] < alpha2 < param_ranges_NULL[2][1] and param_ranges_NULL[3][0] < mu < param_ranges_NULL[3][1] and param_ranges_NULL[4][0] < zeta < param_ranges_NULL[4][1]:\n",
    "        return 0.0 # + prior_return\n",
    "    return -np.inf\n",
    "\n",
    "\n",
    "def log_prior_LIV_lin(theta1):\n",
    "    logE_qg, Eb, alpha1, alpha2, mu, zeta = theta1\n",
    "    \n",
    "        \n",
    "    if logE_qg < np.log10(param_range_lin[0][1]) and param_range_lin[1][0] < Eb < param_range_lin[1][1] and param_range_lin[2][0] < alpha1 < param_range_lin[2][1] and param_range_lin[3][0] < alpha2 < param_range_lin[3][1] and param_range_lin[4][0] < mu < param_range_lin[4][1] and param_range_lin[5][0] < zeta < param_range_lin[5][1]:\n",
    "        return 0.0 #- logE_qg\n",
    "    return -np.inf\n",
    "\n",
    "\n",
    "def log_prior_LIV_quad(theta2):\n",
    "    logE_qg, Eb, alpha1, alpha2, mu, zeta = theta2\n",
    "        \n",
    "    if logE_qg < np.log10(param_range_quad[0][1]) and param_range_quad[1][0] < Eb < param_range_quad[1][1] and param_range_quad[2][0] < alpha1 < param_range_quad[2][1] and param_range_quad[3][0] < alpha2 < param_range_quad[3][1] and param_range_quad[4][0] < mu < param_range_quad[4][1] and param_range_quad[5][0] < zeta < param_range_quad[5][1]:\n",
    "        return 0.0 #-logE_qg\n",
    "    return -np.inf"
   ]
  },
  {
   "cell_type": "code",
   "execution_count": 20,
   "metadata": {},
   "outputs": [],
   "source": [
    "def logposterior_NULL(theta):\n",
    "    \n",
    "    lprior = log_prior_null(theta)\n",
    "    \n",
    "\n",
    "    return lprior + loglklhood_null_HP(theta)\n",
    "\n",
    "def logposterior_LIV_lin(theta1):\n",
    "    \n",
    "    lprior = log_prior_LIV_lin(theta1)\n",
    "    \n",
    "    if not np.isfinite:\n",
    "        return -np.inf\n",
    "    \n",
    "    return lprior + loglklhood_LIV_lin(theta1)\n",
    "\n",
    "def logposterior_LIV_quad(theta2):\n",
    "    \n",
    "    lprior = log_prior_LIV_quad(theta2)\n",
    "    \n",
    "    if not np.isfinite:\n",
    "        return -np.inf\n",
    "    \n",
    "    return lprior + loglklhood_LIV_quad(theta2)"
   ]
  },
  {
   "cell_type": "code",
   "execution_count": 21,
   "metadata": {},
   "outputs": [],
   "source": [
    "Nens = 1000\n",
    "Nburn = 500\n",
    "Nsamples = 1000\n",
    "ndim_NULL = 5\n",
    "ndim_LIV = 6"
   ]
  },
  {
   "cell_type": "code",
   "execution_count": 22,
   "metadata": {},
   "outputs": [
    {
     "data": {
      "text/plain": [
       "(1e-20, 5000)"
      ]
     },
     "execution_count": 22,
     "metadata": {},
     "output_type": "execute_result"
    }
   ],
   "source": [
    "param_ranges_NULL[0]"
   ]
  },
  {
   "cell_type": "code",
   "execution_count": 29,
   "metadata": {},
   "outputs": [],
   "source": [
    "inisamp_null = [np.exp(np.random.uniform(np.log(param_ranges_NULL[0][0]), np.log(param_ranges_NULL[0][1]), Nens))]\n",
    "# inisamp_null = np.array(inisamp0_null.append([np.random.uniform(param_ranges_NULL[i][0], param_ranges_NULL[i][1], Nens) for i in range(1, ndim_NULL)])).T\n",
    "for i in range(1, ndim_NULL):\n",
    "    inisamp_null.append(np.random.uniform(param_ranges_NULL[i][0], param_ranges_NULL[i][1], Nens))\n",
    "    \n",
    "inisamp_null = np.array(inisamp_null).T"
   ]
  },
  {
   "cell_type": "code",
   "execution_count": 30,
   "metadata": {},
   "outputs": [
    {
     "data": {
      "text/plain": [
       "(1000, 5)"
      ]
     },
     "execution_count": 30,
     "metadata": {},
     "output_type": "execute_result"
    }
   ],
   "source": [
    "inisamp_null.shape"
   ]
  },
  {
   "cell_type": "code",
   "execution_count": 31,
   "metadata": {},
   "outputs": [
    {
     "name": "stderr",
     "output_type": "stream",
     "text": [
      "/home/darkwake/.local/lib/python3.10/site-packages/scipy/stats/_continuous_distns.py:296: RuntimeWarning: overflow encountered in square\n",
      "  return -x**2 / 2.0 - _norm_pdf_logC\n",
      "  0%|          | 0/1000 [00:00<?, ?it/s]/tmp/ipykernel_7937/1327712285.py:4: RuntimeWarning: invalid value encountered in power\n",
      "  return zeta * (E0b ** alpha1) * (1 + E0b ** ((alpha2 - alpha1)*mu))/2\n",
      "  0%|          | 0/1000 [00:00<?, ?it/s]\n"
     ]
    },
    {
     "ename": "ValueError",
     "evalue": "Probability function returned NaN",
     "output_type": "error",
     "traceback": [
      "\u001b[0;31m---------------------------------------------------------------------------\u001b[0m",
      "\u001b[0;31mValueError\u001b[0m                                Traceback (most recent call last)",
      "Cell \u001b[0;32mIn[31], line 2\u001b[0m\n\u001b[1;32m      1\u001b[0m sampler_NULL \u001b[39m=\u001b[39m emcee\u001b[39m.\u001b[39mEnsembleSampler(Nens, ndim_NULL, logposterior_NULL)\n\u001b[0;32m----> 2\u001b[0m sampler_NULL\u001b[39m.\u001b[39;49mrun_mcmc(inisamp_null, Nsamples, progress\u001b[39m=\u001b[39;49m\u001b[39mTrue\u001b[39;49;00m)\n",
      "File \u001b[0;32m~/.local/lib/python3.10/site-packages/emcee/ensemble.py:443\u001b[0m, in \u001b[0;36mEnsembleSampler.run_mcmc\u001b[0;34m(self, initial_state, nsteps, **kwargs)\u001b[0m\n\u001b[1;32m    440\u001b[0m     initial_state \u001b[39m=\u001b[39m \u001b[39mself\u001b[39m\u001b[39m.\u001b[39m_previous_state\n\u001b[1;32m    442\u001b[0m results \u001b[39m=\u001b[39m \u001b[39mNone\u001b[39;00m\n\u001b[0;32m--> 443\u001b[0m \u001b[39mfor\u001b[39;00m results \u001b[39min\u001b[39;00m \u001b[39mself\u001b[39m\u001b[39m.\u001b[39msample(initial_state, iterations\u001b[39m=\u001b[39mnsteps, \u001b[39m*\u001b[39m\u001b[39m*\u001b[39mkwargs):\n\u001b[1;32m    444\u001b[0m     \u001b[39mpass\u001b[39;00m\n\u001b[1;32m    446\u001b[0m \u001b[39m# Store so that the ``initial_state=None`` case will work\u001b[39;00m\n",
      "File \u001b[0;32m~/.local/lib/python3.10/site-packages/emcee/ensemble.py:402\u001b[0m, in \u001b[0;36mEnsembleSampler.sample\u001b[0;34m(self, initial_state, log_prob0, rstate0, blobs0, iterations, tune, skip_initial_state_check, thin_by, thin, store, progress, progress_kwargs)\u001b[0m\n\u001b[1;32m    399\u001b[0m move \u001b[39m=\u001b[39m \u001b[39mself\u001b[39m\u001b[39m.\u001b[39m_random\u001b[39m.\u001b[39mchoice(\u001b[39mself\u001b[39m\u001b[39m.\u001b[39m_moves, p\u001b[39m=\u001b[39m\u001b[39mself\u001b[39m\u001b[39m.\u001b[39m_weights)\n\u001b[1;32m    401\u001b[0m \u001b[39m# Propose\u001b[39;00m\n\u001b[0;32m--> 402\u001b[0m state, accepted \u001b[39m=\u001b[39m move\u001b[39m.\u001b[39;49mpropose(model, state)\n\u001b[1;32m    403\u001b[0m state\u001b[39m.\u001b[39mrandom_state \u001b[39m=\u001b[39m \u001b[39mself\u001b[39m\u001b[39m.\u001b[39mrandom_state\n\u001b[1;32m    405\u001b[0m \u001b[39mif\u001b[39;00m tune:\n",
      "File \u001b[0;32m~/.local/lib/python3.10/site-packages/emcee/moves/red_blue.py:93\u001b[0m, in \u001b[0;36mRedBlueMove.propose\u001b[0;34m(self, model, state)\u001b[0m\n\u001b[1;32m     90\u001b[0m q, factors \u001b[39m=\u001b[39m \u001b[39mself\u001b[39m\u001b[39m.\u001b[39mget_proposal(s, c, model\u001b[39m.\u001b[39mrandom)\n\u001b[1;32m     92\u001b[0m \u001b[39m# Compute the lnprobs of the proposed position.\u001b[39;00m\n\u001b[0;32m---> 93\u001b[0m new_log_probs, new_blobs \u001b[39m=\u001b[39m model\u001b[39m.\u001b[39;49mcompute_log_prob_fn(q)\n\u001b[1;32m     95\u001b[0m \u001b[39m# Loop over the walkers and update them accordingly.\u001b[39;00m\n\u001b[1;32m     96\u001b[0m \u001b[39mfor\u001b[39;00m i, (j, f, nlp) \u001b[39min\u001b[39;00m \u001b[39menumerate\u001b[39m(\n\u001b[1;32m     97\u001b[0m     \u001b[39mzip\u001b[39m(all_inds[S1], factors, new_log_probs)\n\u001b[1;32m     98\u001b[0m ):\n",
      "File \u001b[0;32m~/.local/lib/python3.10/site-packages/emcee/ensemble.py:535\u001b[0m, in \u001b[0;36mEnsembleSampler.compute_log_prob\u001b[0;34m(self, coords)\u001b[0m\n\u001b[1;32m    533\u001b[0m \u001b[39m# Check for log_prob returning NaN.\u001b[39;00m\n\u001b[1;32m    534\u001b[0m \u001b[39mif\u001b[39;00m np\u001b[39m.\u001b[39many(np\u001b[39m.\u001b[39misnan(log_prob)):\n\u001b[0;32m--> 535\u001b[0m     \u001b[39mraise\u001b[39;00m \u001b[39mValueError\u001b[39;00m(\u001b[39m\"\u001b[39m\u001b[39mProbability function returned NaN\u001b[39m\u001b[39m\"\u001b[39m)\n\u001b[1;32m    537\u001b[0m \u001b[39mreturn\u001b[39;00m log_prob, blob\n",
      "\u001b[0;31mValueError\u001b[0m: Probability function returned NaN"
     ]
    }
   ],
   "source": [
    "sampler_NULL = emcee.EnsembleSampler(Nens, ndim_NULL, logposterior_NULL)\n",
    "sampler_NULL.run_mcmc(inisamp_null, Nsamples, progress=True)"
   ]
  },
  {
   "cell_type": "code",
   "execution_count": null,
   "metadata": {},
   "outputs": [],
   "source": [
    "with mul.Pool() as pool:\n",
    "    sampler_NULL = emcee.EnsembleSampler(Nens, ndim_NULL, logposterior_NULL, pool=pool)\n",
    "    sampler_NULL.run_mcmc(inisamp_null, Nsamples, progress=True)"
   ]
  },
  {
   "cell_type": "code",
   "execution_count": null,
   "metadata": {},
   "outputs": [],
   "source": []
  }
 ],
 "metadata": {
  "kernelspec": {
   "display_name": "Python 3",
   "language": "python",
   "name": "python3"
  },
  "language_info": {
   "codemirror_mode": {
    "name": "ipython",
    "version": 3
   },
   "file_extension": ".py",
   "mimetype": "text/x-python",
   "name": "python",
   "nbconvert_exporter": "python",
   "pygments_lexer": "ipython3",
   "version": "3.10.6"
  },
  "orig_nbformat": 4
 },
 "nbformat": 4,
 "nbformat_minor": 2
}
